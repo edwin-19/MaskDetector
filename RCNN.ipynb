{
 "cells": [
  {
   "cell_type": "code",
   "execution_count": 44,
   "id": "ideal-vector",
   "metadata": {},
   "outputs": [],
   "source": [
    "import tensorflow as tf\n",
    "import pickle\n",
    "import cv2\n",
    "from matplotlib import pyplot as plt\n",
    "import numpy as np"
   ]
  },
  {
   "cell_type": "code",
   "execution_count": 45,
   "id": "historic-release",
   "metadata": {},
   "outputs": [],
   "source": [
    "cv_img = cv2.imread('data/archive/images/maksssksksss0.png')"
   ]
  },
  {
   "cell_type": "code",
   "execution_count": 46,
   "id": "knowing-ratio",
   "metadata": {},
   "outputs": [],
   "source": [
    "cv_img = cv2.resize(cv_img, (128, 128))"
   ]
  },
  {
   "cell_type": "code",
   "execution_count": 47,
   "id": "pharmaceutical-forward",
   "metadata": {},
   "outputs": [],
   "source": [
    "tf_image = tf.io.read_file('data/archive/images/maksssksksss0.png')\n",
    "tf_image = tf.image.decode_jpeg(tf_image)\n",
    "tf_image = tf.convert_to_tensor(img)\n",
    "tf_image = tf.expand_dims(img, axis=0)\n",
    "tf_image = tf.compat.v1.image.resize_bilinear(tf_image, (128, 128), half_pixel_centers=True)\n",
    "tf_image = tf.squeeze(tf.cast(tf_image, tf.uint8), axis=0)"
   ]
  },
  {
   "cell_type": "code",
   "execution_count": 48,
   "id": "junior-situation",
   "metadata": {
    "scrolled": true
   },
   "outputs": [
    {
     "data": {
      "text/plain": [
       "<matplotlib.image.AxesImage at 0x7f056c503af0>"
      ]
     },
     "execution_count": 48,
     "metadata": {},
     "output_type": "execute_result"
    },
    {
     "data": {
      "image/png": "[encoded data removed]",
      "text/plain": [
       "<Figure size 432x288 with 1 Axes>"
      ]
     },
     "metadata": {
      "needs_background": "light"
     },
     "output_type": "display_data"
    }
   ],
   "source": [
    "plt.imshow(np.abs(cv2_resize - tf_image.numpy()))"
   ]
  }
 ],
 "metadata": {
  "kernelspec": {
   "display_name": "Python 3",
   "language": "python",
   "name": "python3"
  },
  "language_info": {
   "codemirror_mode": {
    "name": "ipython",
    "version": 3
   },
   "file_extension": ".py",
   "mimetype": "text/x-python",
   "name": "python",
   "nbconvert_exporter": "python",
   "pygments_lexer": "ipython3",
   "version": "3.8.5"
  }
 },
 "nbformat": 4,
 "nbformat_minor": 5
}
